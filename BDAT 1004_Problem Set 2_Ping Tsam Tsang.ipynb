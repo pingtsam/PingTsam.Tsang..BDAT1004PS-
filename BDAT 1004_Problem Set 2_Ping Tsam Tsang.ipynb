{
 "cells": [
  {
   "cell_type": "markdown",
   "id": "2b85643f",
   "metadata": {},
   "source": [
    "***BDAT 1004_Problem Set 2_Ping Tsam Tsang***"
   ]
  },
  {
   "cell_type": "markdown",
   "id": "2e2295f4",
   "metadata": {},
   "source": [
    "## Question 1 "
   ]
  },
  {
   "cell_type": "code",
   "execution_count": 7,
   "id": "50abcba9",
   "metadata": {},
   "outputs": [
    {
     "data": {
      "text/plain": [
       "6"
      ]
     },
     "execution_count": 7,
     "metadata": {},
     "output_type": "execute_result"
    }
   ],
   "source": [
    "a = 0\n",
    "def b():\n",
    "    global a\n",
    "    a = c(a)\n",
    "def c(a):\n",
    "    return a + 2\n",
    "\n",
    "b()\n",
    "b()\n",
    "b()\n",
    "a\n",
    "\n",
    "# a = 6\n",
    "# The value is 2 when the last expression (a) is evaluated.\n",
    "# In the beginning, the value of a is 0. \n",
    "# After executing the function b(), the value of a becomes a global variable and as function c(a). \n",
    "# While on the function c(a), it returns a + 2, so a = 6 after executing 3 times of b(). \n"
   ]
  },
  {
   "cell_type": "markdown",
   "id": "174cdd38",
   "metadata": {},
   "source": [
    "## Question 2"
   ]
  },
  {
   "cell_type": "code",
   "execution_count": null,
   "id": "717a1e8d",
   "metadata": {},
   "outputs": [],
   "source": [
    "def fileLength(filename):\n",
    "     try:\n",
    "           infile = open(filename)\n",
    "           print(len(filename))\n",
    "     except FileNotFoundErrort: \n",
    "          print(\"File\", filename, \"not found.”)\n"
   ]
  },
  {
   "cell_type": "markdown",
   "id": "34fdff31",
   "metadata": {},
   "source": [
    "## Question 3"
   ]
  },
  {
   "cell_type": "code",
   "execution_count": 10,
   "id": "6805c007",
   "metadata": {},
   "outputs": [
    {
     "data": {
      "text/plain": [
       "['doll', 'firetruck', 'kitten']"
      ]
     },
     "execution_count": 10,
     "metadata": {},
     "output_type": "execute_result"
    }
   ],
   "source": [
    "class Marsupial :\n",
    "    'a classic queue class'\n",
    "\n",
    "    def __init__(self):\n",
    "        'instantiates an empty list'\n",
    "        self.contents = []\n",
    "        \n",
    "    def put_in_pouch (self, item):\n",
    "        'insert item at rear of queue'\n",
    "        return self.contents.append(item)\n",
    "    \n",
    "    def pouch_contents(self):\n",
    "        return self.contents\n",
    "\n",
    "\n",
    "m = Marsupial()\n",
    "m.put_in_pouch('doll')\n",
    "m.put_in_pouch('firetruck')\n",
    "m.put_in_pouch('kitten')\n",
    "m.pouch_contents()\n"
   ]
  },
  {
   "cell_type": "code",
   "execution_count": null,
   "id": "bc5a2677",
   "metadata": {},
   "outputs": [],
   "source": [
    "class Kangaroo(Marsupial) :\n",
    "\n",
    "    def setdx(self, x):\n",
    "        self.dx = x\n",
    "\n",
    "    def setdy(self, y):\n",
    "        self.dy = y\n",
    "\n",
    "    def sentence(self):\n",
    "        print('I am a Kangaroo located at coordinates ({},{})'.format(dx, dy))\n",
    "        \n",
    "k = Kangaroo(0,0)\n",
    "print(k)\n"
   ]
  },
  {
   "cell_type": "markdown",
   "id": "cf2c3d55",
   "metadata": {},
   "source": [
    "## Question 4"
   ]
  },
  {
   "cell_type": "code",
   "execution_count": 12,
   "id": "acc68c65",
   "metadata": {},
   "outputs": [
    {
     "name": "stdout",
     "output_type": "stream",
     "text": [
      "5.0\n",
      "28\n",
      "4.0\n",
      "22\n",
      "3.0\n",
      "16\n",
      "2.0\n",
      "10\n",
      "1.0\n",
      "1\n"
     ]
    }
   ],
   "source": [
    "def collatz(x):\n",
    "    if x == 1:\n",
    "        print(x)\n",
    "    elif x % 2 == 0:\n",
    "        print(x/2)\n",
    "        collatz(x-1)\n",
    "    else: \n",
    "        x % 2 > 0\n",
    "        print(3*x+1)\n",
    "        collatz(x-1)\n",
    "\n",
    "collatz(10)\n"
   ]
  },
  {
   "cell_type": "markdown",
   "id": "378b97ff",
   "metadata": {},
   "source": [
    "## Question 5"
   ]
  },
  {
   "cell_type": "code",
   "execution_count": 13,
   "id": "91285f57",
   "metadata": {},
   "outputs": [
    {
     "data": {
      "text/plain": [
       "'1001'"
      ]
     },
     "execution_count": 13,
     "metadata": {},
     "output_type": "execute_result"
    }
   ],
   "source": [
    "def binary(x):\n",
    "    return bin(x).replace(\"0b\", \"\")\n",
    "\n",
    "binary(0)\n",
    "binary(1)\n",
    "binary(3)\n",
    "binary(9)\n"
   ]
  },
  {
   "cell_type": "markdown",
   "id": "f7986fe8",
   "metadata": {},
   "source": [
    "## Question 6"
   ]
  },
  {
   "cell_type": "code",
   "execution_count": null,
   "id": "cad9c2a9",
   "metadata": {},
   "outputs": [],
   "source": [
    "infile = open('w3c.html')\n",
    "content = infile.read()\n",
    "\n",
    "from html.parser import HTMLParser\n",
    "class HeadingParser(HTMLParser):\n",
    "    response = urlopen('w3c.html')\n",
    "    print(type(response))\n",
    "    print(response.geturl())\n",
    "\n",
    "\n",
    "for header in response.getheaders():\n",
    "        print(header)\n",
    "\n",
    "html = response.read()\n",
    "print(type(html))\n",
    "print(html)\n",
    "html = html.decode()\n",
    "print(type(html))\n",
    "                    \n",
    "hp = HeadingParser()\n",
    "hp.feed(content)\n"
   ]
  },
  {
   "cell_type": "markdown",
   "id": "d428aeff",
   "metadata": {},
   "source": [
    "## Question 7"
   ]
  },
  {
   "cell_type": "code",
   "execution_count": null,
   "id": "ba6eaf2c",
   "metadata": {},
   "outputs": [],
   "source": [
    "url=input()\n",
    "\n",
    "def webdir(url,depth,indent.):\n",
    "    resource = urlopen(url)\n",
    "    content = resource.read().decode()\n",
    "    collector = Collector()\n",
    "    collector.feed(content)\n",
    "    collector.getLinks()\n",
    "\n",
    "webdir()\n"
   ]
  },
  {
   "cell_type": "markdown",
   "id": "e9922ebd",
   "metadata": {},
   "source": [
    "## Question 8"
   ]
  },
  {
   "cell_type": "code",
   "execution_count": null,
   "id": "d6ea0fbb",
   "metadata": {},
   "outputs": [],
   "source": [
    "%%sql \n",
    "\n",
    "#a) All the temperature data.\n",
    "SELECT Temperature FROM database table;\n",
    "\n",
    "#b) All the cities, but without repetition.\n",
    "SELECT City FROM database table\n",
    "GROUP BY City;\n",
    "\n",
    "#c) All the records for India.\n",
    "SELECT Country FROM database table\n",
    "WHERE Country = 'India';\n",
    "\n",
    "#d) All the Fall records.\n",
    "SELECT Season FROM database table\n",
    "WHERE Season = 'Fall';\n",
    "\n",
    "#e) The city, country, and season for which the average rainfall is between 200 and 400 millimeters.\n",
    "SELECT City, Country, Season FROM database table\n",
    "WHERE Rainfall BETWEEN 200 AND 400;\n",
    "\n",
    "\n",
    "#f) The city and country for which the average Fall temperature is above 20 degrees, in increasing temperature order.\n",
    "SELECT City, Country FROM database table\n",
    "WHERE Season = 'Fall'AND Temperature > 20\n",
    "ORDER BY Temperature ASC;\n",
    "\n",
    "\n",
    "#The total annual rainfall for Cairo.\n",
    "SELECT City, SUM(Rainfall) FROM database table\n",
    "WHERE City = 'Cairo'\n",
    "\n",
    "#h) The total rainfall for each season.\n",
    "SELECT SUM(Rainfall) FROM database table\n",
    "GROUP BY Season;\n"
   ]
  },
  {
   "cell_type": "markdown",
   "id": "18fc665b",
   "metadata": {},
   "source": [
    "## Question 9"
   ]
  },
  {
   "cell_type": "code",
   "execution_count": 18,
   "id": "ade527c9",
   "metadata": {},
   "outputs": [
    {
     "name": "stdout",
     "output_type": "stream",
     "text": [
      "['THE', 'QUICK', 'BROWN', 'FOX', 'JUMPS', 'OVER', 'THE', 'LAZY', 'DOG']\n",
      "['the', 'quick', 'brown', 'fox', 'jumps', 'over', 'the', 'lazy', 'dog']\n",
      "[3, 5, 5, 3, 5, 4, 3, 4, 3]\n",
      "[['THE', 'the', 3], ['QUICK', 'quick', 5], ['BROWN', 'brown', 5], ['FOX', 'fox', 3], ['JUMPS', 'jumps', 5], ['OVER', 'over', 4], ['THE', 'the', 3], ['LAZY', 'lazy', 4], ['DOG', 'dog', 3]]\n",
      "['quick', 'brown']\n"
     ]
    }
   ],
   "source": [
    "words=['The', 'quick', 'brown', 'fox', 'jumps', 'over', 'the', 'lazy', 'dog']\n",
    "\n",
    "# a)\n",
    "up_words = [x.upper() for x in words]\n",
    "print(up_words)\n",
    "\n",
    "# b)\n",
    "low_words = [x.lower() for x in words]\n",
    "print(low_words)\n",
    "\n",
    "# c)\n",
    "[len(x) for x in words]\n",
    "print([len(x) for x in words])\n",
    "\n",
    "# d)\n",
    "w=[]\n",
    "a=0\n",
    "for x in range(len(words)):\n",
    "    w.insert(a,list((up_words[a],low_words[a],len(words[a]))))\n",
    "    a=a+1\n",
    "print(w)\n",
    "\n",
    "# e)\n",
    "new_w=[]\n",
    "b=1\n",
    "for y in range(len(words)):\n",
    "    while len(words[b]) >= 4:\n",
    "        new_w.insert(b,words[b])\n",
    "        b=b+1\n",
    "print(new_w)"
   ]
  },
  {
   "cell_type": "code",
   "execution_count": null,
   "id": "b16ef01e",
   "metadata": {},
   "outputs": [],
   "source": []
  }
 ],
 "metadata": {
  "kernelspec": {
   "display_name": "Python 3 (ipykernel)",
   "language": "python",
   "name": "python3"
  },
  "language_info": {
   "codemirror_mode": {
    "name": "ipython",
    "version": 3
   },
   "file_extension": ".py",
   "mimetype": "text/x-python",
   "name": "python",
   "nbconvert_exporter": "python",
   "pygments_lexer": "ipython3",
   "version": "3.9.7"
  }
 },
 "nbformat": 4,
 "nbformat_minor": 5
}
